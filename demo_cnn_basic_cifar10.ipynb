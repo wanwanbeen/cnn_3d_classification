{
 "cells": [
  {
   "cell_type": "markdown",
   "metadata": {},
   "source": [
    "# Classification with CIFAR10 using a basic CNN \n",
    "\n",
    "## Requirements:\n",
    "\n",
    "1. Python 2.7\n",
    "3. PyTorch\n",
    "2. NumPy\n",
    "3. Data: download [cifar-10-python.tar.gz](https://www.cs.toronto.edu/~kriz/cifar-10-python.tar.gz) and extract as **cifar-10-python**"
   ]
  },
  {
   "cell_type": "code",
   "execution_count": 1,
   "metadata": {
    "collapsed": true
   },
   "outputs": [],
   "source": [
    "import numpy as np\n",
    "import pickle\n",
    "import os\n",
    "\n",
    "import torch\n",
    "import torch.nn as nn\n",
    "import torch.nn.functional as F\n",
    "import torch.optim as optim\n",
    "from torch.autograd import Variable\n",
    "from torch.utils.data import DataLoader\n",
    "\n",
    "import matplotlib.pyplot as plt\n",
    "import warnings\n",
    "%matplotlib inline\n",
    "warnings.filterwarnings('ignore')\n",
    "os.environ['CUDA_VISIBLE_DEVICES']='1'"
   ]
  },
  {
   "cell_type": "markdown",
   "metadata": {},
   "source": [
    "### Define network architecture \n",
    "#### 3 convolutial layers + 3 fully-connected layers:\n",
    "* input \n",
    "* conv1: input channel = 3, output channel = 32, kernel size = 3, padding to same size\n",
    "* relu\n",
    "* maxpooling (kernel size = 2, stride = 2)\n",
    "* conv2: input channel = 32, output channel = 48, kernel size = 3, padding to same size\n",
    "* relu\n",
    "* maxpooling (kernel size = 2, stride = 2)\n",
    "* conv3: input channel = 48, output channel = 64, kernel size = 3, padding to same size\n",
    "* relu\n",
    "* maxpooling (kernel size = 2, stride = 2)\n",
    "* fc1: input channel = 64*(32/8)^2, output channel = 128\n",
    "* relu\n",
    "* fc2: input channel = 128, output channel = 64\n",
    "* relu\n",
    "* fc3: input channel = 64, output channel = 10\n",
    "* softmax on output\n",
    "* cross entropy loss"
   ]
  },
  {
   "cell_type": "code",
   "execution_count": 2,
   "metadata": {
    "collapsed": true
   },
   "outputs": [],
   "source": [
    "##########################\n",
    "# CNN model\n",
    "##########################\n",
    "\n",
    "class Model(nn.Module):\n",
    "    def __init__(self):\n",
    "        super(Model, self).__init__()\n",
    "        self.conv1 = nn.Conv2d(3, 32, 3, padding = 1)\n",
    "        self.conv2 = nn.Conv2d(32, 64, 3, padding = 1)\n",
    "        self.conv3 = nn.Conv2d(64, 64, 3, padding = 1)\n",
    "        self.pool  = nn.MaxPool2d(2, 2)\n",
    "        self.fc1   = nn.Linear(64*4*4, 128)\n",
    "        self.fc2   = nn.Linear(128, 64)\n",
    "        self.fc3   = nn.Linear(64, 10)\n",
    "\n",
    "    def forward(self, x):\n",
    "        # Convolutional layers\n",
    "        x = self.pool(F.relu(self.conv1(x)))\n",
    "        x = self.pool(F.relu(self.conv2(x)))\n",
    "        x = self.pool(F.relu(self.conv3(x)))\n",
    "\n",
    "        # Reshape for fully connected layers\n",
    "        x = x.view(-1, self.num_flat_features(x))\n",
    "\n",
    "        # Fully connected layers\n",
    "        x = F.relu(self.fc1(x))\n",
    "        x = F.relu(self.fc2(x))\n",
    "        x = self.fc3(x)\n",
    "\n",
    "        return x\n",
    "\n",
    "    def num_flat_features(self, x):\n",
    "        size = x.size()[1:]\n",
    "        num_features = 1\n",
    "        for s in size:\n",
    "            num_features *= s\n",
    "        return num_features"
   ]
  },
  {
   "cell_type": "markdown",
   "metadata": {},
   "source": [
    "### Define data loader"
   ]
  },
  {
   "cell_type": "code",
   "execution_count": 3,
   "metadata": {
    "collapsed": true
   },
   "outputs": [],
   "source": [
    "##########################\n",
    "# Reading CIFAR10 data\n",
    "##########################\n",
    "\n",
    "class cifar_Loader:\n",
    "    \n",
    "    def __init__(self):\n",
    "    \n",
    "        self.train_data = None\n",
    "        self.train_labels = None\n",
    "        for i in range(1, 6):\n",
    "            pickleFile = self.unpickle('cifar-10-batches-py/data_batch_{}'.format(i))\n",
    "            dataX = pickleFile[b'data']\n",
    "            dataY = pickleFile[b'labels']\n",
    "            if type(self.train_data) is np.ndarray:\n",
    "                self.train_data = np.concatenate((self.train_data, dataX))\n",
    "                self.train_labels = np.concatenate((self.train_labels, dataY))\n",
    "            else:\n",
    "                self.train_data = dataX\n",
    "                self.train_labels = dataY\n",
    "            \n",
    "        self.train_data = self.train_data.reshape(self.train_data.shape[0], 3, 32, 32)\n",
    "        self.train_data = self.train_data.transpose([0, 2, 3, 1])\n",
    "        \n",
    "        ########################################################\n",
    "        # Split train and validation via stratified sampling\n",
    "        ########################################################\n",
    "        \n",
    "        np.random.seed(0)\n",
    "        val_num = int(self.train_data.shape[0]*0.2)\n",
    "        randord = np.random.permutation(range(self.train_data.shape[0])).tolist()\n",
    "        self.val_data = self.train_data[randord[:val_num],:,:,:]\n",
    "        self.val_labels = self.train_labels[randord[:val_num]]\n",
    "        self.train_data = self.train_data[randord[val_num:],:,:,:]\n",
    "        self.train_labels = self.train_labels[randord[val_num:]]\n",
    "        \n",
    "        self.test_data = None\n",
    "        self.test_labels = None\n",
    "        pickleFile = self.unpickle('cifar-10-batches-py/test_batch')\n",
    "        dataX = pickleFile[b'data']\n",
    "        dataY = pickleFile[b'labels']\n",
    "        if type(self.test_data) is np.ndarray:\n",
    "            self.test_data = np.concatenate((self.test_data, dataX))\n",
    "            self.test_labels = np.concatenate((self.test_labels, dataY))\n",
    "        else:\n",
    "            self.test_data = np.array(dataX)\n",
    "            self.test_labels = np.array(dataY)\n",
    "\n",
    "        self.test_data = self.test_data.reshape(self.test_data.shape[0], 3, 32, 32)\n",
    "        self.test_data = self.test_data.transpose([0, 2, 3, 1])\n",
    "            \n",
    "    def unpickle(self,file):\n",
    "        \n",
    "        with open(file, 'rb') as fo:\n",
    "            dict = pickle.load(fo)\n",
    "        return dict\n",
    "    \n",
    "class data_prepare:\n",
    "    \n",
    "    def __init__(self, data = None, labels = None, transform = None):        \n",
    "        self.data = data  \n",
    "        self.labels = labels\n",
    "        self.transform = transform\n",
    "    \n",
    "    def __getitem__(self, index):        \n",
    "        img, target = self.data[index], self.labels[index]    \n",
    "        img = np.float64(img)\n",
    "        if self.transform is not None:\n",
    "            img[:,:,0] -= self.transform[0][0]\n",
    "            img[:,:,0] /= self.transform[0][1]\n",
    "            img[:,:,1] -= self.transform[1][0]\n",
    "            img[:,:,1] /= self.transform[1][1]\n",
    "            img[:,:,2] -= self.transform[2][0]\n",
    "            img[:,:,2] /= self.transform[2][1]\n",
    "            \n",
    "        img = img.transpose([2, 0, 1])\n",
    "        return torch.FloatTensor(img), target\n",
    "    \n",
    "    def __len__(self):        \n",
    "        return self.data.shape[0]"
   ]
  },
  {
   "cell_type": "markdown",
   "metadata": {},
   "source": [
    "### Begin loading data from CIFAR10 \n",
    "* Splitted into training vs. validation vs. test"
   ]
  },
  {
   "cell_type": "code",
   "execution_count": 4,
   "metadata": {},
   "outputs": [
    {
     "name": "stdout",
     "output_type": "stream",
     "text": [
      "training data: (40000, 32, 32, 3)\n",
      "training label: (40000,)\n",
      "validation data: (10000, 32, 32, 3)\n",
      "validation label: (10000,)\n",
      "test data: (10000, 32, 32, 3)\n",
      "test label: (10000,)\n"
     ]
    }
   ],
   "source": [
    "########################################################\n",
    "# Loading CIFAR10  \n",
    "########################################################\n",
    "\n",
    "cifar = cifar_Loader()\n",
    "transform = []\n",
    "transform.append([np.mean(cifar.train_data[:,:,:,0]), np.std(cifar.train_data[:,:,:,0])])\n",
    "transform.append([np.mean(cifar.train_data[:,:,:,1]), np.std(cifar.train_data[:,:,:,1])])\n",
    "transform.append([np.mean(cifar.train_data[:,:,:,2]), np.std(cifar.train_data[:,:,:,2])])\n",
    "\n",
    "# prepare training data\n",
    "cifar_train = data_prepare(data = cifar.train_data, labels = cifar.train_labels, transform=transform)\n",
    "# prepare validation data\n",
    "cifar_val = data_prepare(data = cifar.val_data, labels = cifar.val_labels, transform=transform)\n",
    "# prepare test data\n",
    "cifar_test = data_prepare(data = cifar.test_data, labels = cifar.test_labels, transform=transform)\n",
    "\n",
    "print(\"training data: {}\".format(cifar_train.data.shape))\n",
    "print(\"training label: {}\".format(cifar_train.labels.shape))\n",
    "print(\"validation data: {}\".format(cifar_val.data.shape))\n",
    "print(\"validation label: {}\".format(cifar_val.labels.shape))\n",
    "print(\"test data: {}\".format(cifar_test.data.shape))\n",
    "print(\"test label: {}\".format(cifar_test.labels.shape))"
   ]
  },
  {
   "cell_type": "code",
   "execution_count": 5,
   "metadata": {},
   "outputs": [
    {
     "data": {
      "image/png": "[encoded data removed]",
      "text/plain": [
       "<matplotlib.figure.Figure at 0x7f661692b090>"
      ]
     },
     "metadata": {},
     "output_type": "display_data"
    }
   ],
   "source": [
    "########################################################\n",
    "# Visualize a few sample images  \n",
    "########################################################\n",
    "plt.figure(figsize=(12, 5))\n",
    "for n_img in range(1,5):\n",
    "    plt.subplot(1,4,n_img)\n",
    "    plt.imshow(cifar_train.data[n_img])"
   ]
  },
  {
   "cell_type": "markdown",
   "metadata": {},
   "source": [
    "### Begin training"
   ]
  },
  {
   "cell_type": "code",
   "execution_count": 6,
   "metadata": {},
   "outputs": [
    {
     "name": "stdout",
     "output_type": "stream",
     "text": [
      "Epoch 0 / 200 Train loss 2.30 accuracy 9.90% | Validation loss 2.30 accuracy 10.40% \n",
      "Epoch 10 / 200 Train loss 1.58 accuracy 41.64% | Validation loss 1.56 accuracy 42.07% \n",
      "Epoch 20 / 200 Train loss 1.29 accuracy 53.32% | Validation loss 1.28 accuracy 54.04% \n",
      "Epoch 30 / 200 Train loss 1.08 accuracy 61.66% | Validation loss 1.10 accuracy 60.32% \n",
      "Epoch 40 / 200 Train loss 0.90 accuracy 68.28% | Validation loss 0.98 accuracy 65.74% \n",
      "Epoch 50 / 200 Train loss 0.77 accuracy 73.00% | Validation loss 0.89 accuracy 68.86% \n",
      "Epoch 51 / 200 Train loss 0.76 accuracy 73.55% | Validation loss 0.90 accuracy 68.75% best model detected!\n",
      "Epoch 52 / 200 Train loss 0.75 accuracy 73.77% | Validation loss 0.87 accuracy 69.57% best model detected!\n",
      "Epoch 56 / 200 Train loss 0.70 accuracy 75.60% | Validation loss 0.87 accuracy 70.27% best model detected!\n",
      "Epoch 58 / 200 Train loss 0.68 accuracy 76.48% | Validation loss 0.86 accuracy 70.48% best model detected!\n",
      "Epoch 60 / 200 Train loss 0.66 accuracy 77.03% | Validation loss 0.86 accuracy 70.71% \n",
      "Epoch 61 / 200 Train loss 0.65 accuracy 77.50% | Validation loss 0.86 accuracy 71.19% best model detected!\n",
      "Epoch 62 / 200 Train loss 0.64 accuracy 77.87% | Validation loss 0.84 accuracy 71.26% best model detected!\n",
      "Epoch 67 / 200 Train loss 0.60 accuracy 79.44% | Validation loss 0.84 accuracy 71.89% best model detected!\n",
      "Epoch 70 / 200 Train loss 0.57 accuracy 80.22% | Validation loss 0.83 accuracy 72.40% best model detected!\n",
      "Epoch 72 / 200 Train loss 0.55 accuracy 80.99% | Validation loss 0.82 accuracy 72.66% best model detected!\n",
      "Epoch 80 / 200 Train loss 0.47 accuracy 83.75% | Validation loss 0.86 accuracy 72.31% \n",
      "Epoch 90 / 200 Train loss 0.40 accuracy 86.37% | Validation loss 0.91 accuracy 72.21% \n",
      "Epoch 100 / 200 Train loss 0.29 accuracy 90.03% | Validation loss 0.98 accuracy 72.38% \n",
      "Epoch 110 / 200 Train loss 0.22 accuracy 92.87% | Validation loss 1.14 accuracy 71.96% \n",
      "Epoch 120 / 200 Train loss 0.14 accuracy 95.92% | Validation loss 1.32 accuracy 71.38% \n",
      "Epoch 130 / 200 Train loss 0.08 accuracy 97.70% | Validation loss 1.59 accuracy 71.01% \n",
      "Epoch 140 / 200 Train loss 0.05 accuracy 98.90% | Validation loss 1.79 accuracy 71.14% \n",
      "Epoch 150 / 200 Train loss 0.01 accuracy 99.93% | Validation loss 2.04 accuracy 71.58% \n",
      "Epoch 160 / 200 Train loss 0.01 accuracy 100.00% | Validation loss 2.23 accuracy 71.71% \n",
      "Epoch 170 / 200 Train loss 0.00 accuracy 100.00% | Validation loss 2.38 accuracy 71.62% \n",
      "Epoch 180 / 200 Train loss 0.00 accuracy 100.00% | Validation loss 2.49 accuracy 71.51% \n",
      "Epoch 190 / 200 Train loss 0.00 accuracy 100.00% | Validation loss 2.58 accuracy 71.41% \n",
      "Best model detected at epoch 72 / 200\n"
     ]
    }
   ],
   "source": [
    "# Hyperparameters\n",
    "n_epochs = 200\n",
    "n_verbose = 10\n",
    "batch_size = 200\n",
    "learning_rate = 0.001\n",
    "momentum = 0.9\n",
    "\n",
    "# Define Model\n",
    "model = Model()\n",
    "model = model.cuda()\n",
    "\n",
    "# Define loss function and optimizer\n",
    "criterion = nn.CrossEntropyLoss()\n",
    "optimizer = optim.SGD(model.parameters(), lr=learning_rate, momentum=momentum)\n",
    "\n",
    "# Prepare data loader\n",
    "loader_train = DataLoader(cifar_train, batch_size=batch_size, shuffle=True, num_workers=2)\n",
    "loader_val = DataLoader(cifar_val, batch_size=batch_size, shuffle=True, num_workers=2)\n",
    "loader_test = DataLoader(cifar_test, batch_size=batch_size, shuffle=True, num_workers=2)\n",
    "\n",
    "# Begin iteration\n",
    "\n",
    "LOSS_train = np.zeros(n_epochs)\n",
    "LOSS_val = np.zeros(n_epochs)\n",
    "ACC_train = np.zeros(n_epochs)\n",
    "ACC_val = np.zeros(n_epochs)\n",
    "history_loss_best = 10**6\n",
    "history_tolerance = 0\n",
    "best_epoch = 0\n",
    "\n",
    "for epoch in range(n_epochs): \n",
    "     \n",
    "    # training\n",
    "    loss_train = []\n",
    "    correct = 0\n",
    "    total = 0\n",
    "    for data in loader_train:\n",
    "        # prepare data in minibatch\n",
    "        images, labels = data\n",
    "        images, labels = images.cuda(), labels.cuda()\n",
    "        images, labels_var = Variable(images), Variable(labels)\n",
    "        \n",
    "        # Train on minibatch: initialize grad. - forward - loss - backward - update grad.\n",
    "        optimizer.zero_grad()              \n",
    "        outputs = model(images)            \n",
    "        loss = criterion(outputs, labels_var)  \n",
    "        loss.backward()                    \n",
    "        optimizer.step()                  \n",
    "        \n",
    "        loss_train.append(loss.data[0])\n",
    "        _, predicted = torch.max(outputs.data, 1)\n",
    "        total += labels.size(0)\n",
    "        correct += (predicted == labels).sum()\n",
    "\n",
    "    LOSS_train[epoch] = sum(loss_train)/len(loss_train)\n",
    "    ACC_train[epoch] = correct * 100./ total\n",
    "        \n",
    "    # validation\n",
    "    loss_val = []\n",
    "    correct = 0\n",
    "    total = 0\n",
    "    for data in loader_val:\n",
    "        images, labels = data\n",
    "        images, labels = images.cuda(), labels.cuda()\n",
    "        images, labels_var = Variable(images), Variable(labels)\n",
    "        outputs = model(images)\n",
    "        loss = criterion(outputs, labels_var)        \n",
    "        loss_val.append(loss.data[0])\n",
    "        _, predicted = torch.max(outputs.data, 1)\n",
    "        total += labels.size(0)\n",
    "        correct += (predicted == labels).sum()\n",
    "        \n",
    "    LOSS_val[epoch] = sum(loss_val)/len(loss_val)\n",
    "    ACC_val[epoch] = correct * 100./ total\n",
    "    \n",
    "    if epoch > 50 and LOSS_val[epoch] < history_loss_best and history_tolerance <= 10:\n",
    "        torch.save(model.state_dict(), './model_1.1.pt')\n",
    "        history_loss_best = LOSS_val[epoch] \n",
    "        history_tolerance = 0\n",
    "        best_epoch = epoch\n",
    "        \n",
    "        print(\"Epoch {} / {} Train loss {:.2f} accuracy {:.2f}% | Validation loss {:.2f} accuracy {:.2f}% best model detected!\".format(\n",
    "        epoch, n_epochs, LOSS_train[epoch], ACC_train[epoch], LOSS_val[epoch], ACC_val[epoch]))        \n",
    "    else:\n",
    "        if epoch > 50:\n",
    "            history_tolerance += 1\n",
    "        \n",
    "        if epoch % n_verbose == 0:\n",
    "            print(\"Epoch {} / {} Train loss {:.2f} accuracy {:.2f}% | Validation loss {:.2f} accuracy {:.2f}% \".format(\n",
    "            epoch, n_epochs, LOSS_train[epoch], ACC_train[epoch], LOSS_val[epoch], ACC_val[epoch]))\n",
    "\n",
    "print(\"Best model detected at epoch {} / {}\".format(best_epoch, n_epochs))"
   ]
  },
  {
   "cell_type": "markdown",
   "metadata": {},
   "source": [
    "### Plot training vs. validation loss and accuracy"
   ]
  },
  {
   "cell_type": "code",
   "execution_count": 7,
   "metadata": {},
   "outputs": [
    {
     "data": {
      "text/plain": [
       "<matplotlib.legend.Legend at 0x7f660b8dfc90>"
      ]
     },
     "execution_count": 7,
     "metadata": {},
     "output_type": "execute_result"
    },
    {
     "data": {
      "image/png": "[encoded data removed]",
      "text/plain": [
       "<matplotlib.figure.Figure at 0x7f661321be10>"
      ]
     },
     "metadata": {},
     "output_type": "display_data"
    }
   ],
   "source": [
    "plt.figure(figsize=(12, 5))\n",
    "plt.subplot(121)\n",
    "plt.plot(range(n_epochs), LOSS_train, 'ro-', label='Training')\n",
    "plt.plot(range(n_epochs), LOSS_val, 'gd-', label='Validation')\n",
    "plt.title('Loss vs. Epoch')\n",
    "plt.xlabel('Number of Epoch')\n",
    "plt.ylabel('Loss')\n",
    "plt.grid()\n",
    "plt.legend()\n",
    "plt.subplot(122)\n",
    "plt.plot(range(n_epochs), ACC_train, 'ro-', label='Training')\n",
    "plt.plot(range(n_epochs), ACC_val, 'gd-', label='Validation')\n",
    "plt.title('Accuracy vs. Epoch')\n",
    "plt.xlabel('Number of Epoch')\n",
    "plt.ylabel('Accuracy')\n",
    "plt.grid()\n",
    "plt.legend()"
   ]
  },
  {
   "cell_type": "markdown",
   "metadata": {},
   "source": [
    "### Test result"
   ]
  },
  {
   "cell_type": "code",
   "execution_count": 8,
   "metadata": {},
   "outputs": [
    {
     "name": "stdout",
     "output_type": "stream",
     "text": [
      "Test loss = 0.828862677813\n",
      "Test accuracy = 72.40%\n"
     ]
    }
   ],
   "source": [
    "# test\n",
    "model.load_state_dict(torch.load('./model_1.1.pt'))\n",
    "loss_test = []\n",
    "correct = 0\n",
    "total = 0\n",
    "for data in loader_test:\n",
    "    images, labels = data\n",
    "    images, labels = images.cuda(), labels.cuda()\n",
    "    images, labels_var = Variable(images), Variable(labels)\n",
    "    outputs = model(images)\n",
    "    loss = criterion(outputs, labels_var)\n",
    "    _, predicted = torch.max(outputs.data, 1)\n",
    "    total += labels.size(0)\n",
    "    correct += (predicted == labels).sum()\n",
    "    loss_test.append(loss.data[0])\n",
    "\n",
    "print(\"Test loss = {}\".format(sum(loss_test)/len(loss_test)))\n",
    "print(\"Test accuracy = {:.2f}%\".format(correct * 100./ total))"
   ]
  },
  {
   "cell_type": "code",
   "execution_count": null,
   "metadata": {
    "collapsed": true
   },
   "outputs": [],
   "source": []
  }
 ],
 "metadata": {
  "anaconda-cloud": {},
  "kernelspec": {
   "display_name": "Python 2",
   "language": "python",
   "name": "python2"
  },
  "language_info": {
   "codemirror_mode": {
    "name": "ipython",
    "version": 2
   },
   "file_extension": ".py",
   "mimetype": "text/x-python",
   "name": "python",
   "nbconvert_exporter": "python",
   "pygments_lexer": "ipython2",
   "version": "2.7.14"
  }
 },
 "nbformat": 4,
 "nbformat_minor": 2
}
